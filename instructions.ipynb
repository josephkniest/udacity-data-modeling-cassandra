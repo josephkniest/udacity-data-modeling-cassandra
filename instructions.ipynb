{
 "cells": [
  {
   "cell_type": "markdown",
   "metadata": {
    "editable": true
   },
   "source": [
    "# Cassandra data modeling\n",
    "\n",
    "With this ETL we use cassandra to answer three questions about the song data\n",
    "\n",
    "## The questions\n",
    "\n",
    "1) Give me the artist, song title and song's length in the music app history that was heard during sessionId = 338, and itemInSession = 4\n",
    "\n",
    "2) Give me only the following: name of artist, song (sorted by itemInSession) and user (first and last name) for userid = 10, sessionid = 182\n",
    "\n",
    "3) Give me every user name (first and last) in my music app history who listened to the song 'All Hands Against His Own'\n",
    "\n",
    "## Tables\n",
    "\n",
    "There are three tables created to answer each question respectively:\n",
    "\n",
    "1) sparkify.plays_by_session_and_item\n",
    "2) artist_song_user_by_user_id_session_id\n",
    "3) user_first_last_by_song_listened_to\n",
    "\n",
    "## Asking the questions\n",
    "\n",
    "After data insertion from the raw csv files, answer the three questions with the following cassandra queries\n",
    "\n",
    "1) \n"
   ]
  }
 ],
 "metadata": {
  "kernelspec": {
   "display_name": "Python 3",
   "language": "python",
   "name": "python3"
  },
  "language_info": {
   "codemirror_mode": {
    "name": "ipython",
    "version": 3
   },
   "file_extension": ".py",
   "mimetype": "text/x-python",
   "name": "python",
   "nbconvert_exporter": "python",
   "pygments_lexer": "ipython3",
   "version": "3.6.3"
  }
 },
 "nbformat": 4,
 "nbformat_minor": 4
}
