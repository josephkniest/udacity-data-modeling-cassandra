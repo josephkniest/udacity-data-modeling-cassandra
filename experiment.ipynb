{
 "cells": [
  {
   "cell_type": "markdown",
   "metadata": {
    "editable": true
   },
   "source": [
    "# Cassandra data modeling\n",
    "\n",
    "With this ETL we use cassandra to answer three questions about the song data\n",
    "\n",
    "## The questions\n",
    "\n",
    "1) Give me the artist, song title and song's length in the music app history that was heard during sessionId = 338, and itemInSession = 4\n",
    "\n",
    "2) Give me only the following: name of artist, song (sorted by itemInSession) and user (first and last name) for userid = 10, sessionid = 182\n",
    "\n",
    "3) Give me every user name (first and last) in my music app history who listened to the song 'All Hands Against His Own'\n",
    "\n",
    "## Tables\n",
    "\n",
    "There are three tables created to answer each question respectively:\n",
    "\n",
    "1) sparkify.plays_by_session_and_item\n",
    "2) artist_song_user_by_user_id_session_id\n",
    "3) user_first_last_by_song_listened_to\n",
    "\n",
    "## Asking the questions\n",
    "\n",
    "After data insertion from the raw csv files, answer the three questions with the following cassandra queries\n",
    "\n",
    "1:\n",
    "```SELECT artist, song_title, song_len FROM sparkify.plays_by_session_and_item WHERE session_id=338 AND item_in_session=4;```\n",
    "2:\n",
    "```\n",
    "SELECT artist, song_title, user_first, user_last\n",
    "        FROM sparkify.artist_song_user_by_user_id_session_id\n",
    "        WHERE session_id=182 AND user_id=10\n",
    "        GROUP BY item_in_session;\n",
    "```\n",
    "3: \n",
    "```\n",
    "SELECT user_first, user_last\n",
    "        FROM sparkify.user_first_last_by_song_listened_to\n",
    "        WHERE song_title='All Hands Against His Own'\n",
    "        GROUP BY user_id;\n",
    "```\n",
    "\n",
    "## Results\n",
    "\n",
    "For the given questions, the following results were discovered to be the answers respectively, given the dataset:\n",
    "\n",
    "1:\n",
    "```\n",
    "{'artist': 'Faithless', 'song_title': 'Music Matters (Mark Knight Dub)', 'song_len': 495.30731201171875}\n",
    "```\n",
    "2:\n",
    "```\n",
    "{'artist': 'Down To The Bone', 'song_title': \"Keep On Keepin' On\", 'user_first': 'Sylvie', 'user_last': 'Cruz'}, {'artist': 'Three Drives', 'song_title': 'Greece 2000', 'user_first': 'Sylvie', 'user_last': 'Cruz'},\n",
    "{'artist': 'Sebastien Tellier', 'song_title': 'Kilometer', 'user_first': 'Sylvie', 'user_last': 'Cruz'},\n",
    "{'artist': 'Lonnie Gordon', 'song_title': 'Catch You Baby (Steve Pitron & Max Sanna Radio Edit)', 'user_first': 'Sylvie','user_last': 'Cruz'}\n",
    "```\n",
    "3:\n",
    "```\n",
    "{'user_first': 'Jacqueline', 'user_last': 'Lynch'},\n",
    "{'user_first': 'Tegan', 'user_last': 'Levine'},\n",
    "{'user_first': 'Sara', 'user_last': 'Johnson'}\n",
    "```\n"
   ]
  }
 ],
 "metadata": {
  "kernelspec": {
   "display_name": "Python 3",
   "language": "python",
   "name": "python3"
  },
  "language_info": {
   "codemirror_mode": {
    "name": "ipython",
    "version": 3
   },
   "file_extension": ".py",
   "mimetype": "text/x-python",
   "name": "python",
   "nbconvert_exporter": "python",
   "pygments_lexer": "ipython3",
   "version": "3.6.3"
  }
 },
 "nbformat": 4,
 "nbformat_minor": 4
}
