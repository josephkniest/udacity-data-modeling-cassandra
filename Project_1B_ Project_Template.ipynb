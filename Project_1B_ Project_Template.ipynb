{
 "cells": [
  {
   "cell_type": "markdown",
   "metadata": {
    "editable": true
   },
   "source": [
    "# Part I. ETL Pipeline for Pre-Processing the Files"
   ]
  },
  {
   "cell_type": "markdown",
   "metadata": {
    "editable": true
   },
   "source": [
    "## PLEASE RUN THE FOLLOWING CODE FOR PRE-PROCESSING THE FILES"
   ]
  },
  {
   "cell_type": "markdown",
   "metadata": {
    "editable": true
   },
   "source": [
    "#### Import Python packages "
   ]
  },
  {
   "cell_type": "code",
   "execution_count": 1,
   "metadata": {
    "editable": true
   },
   "outputs": [],
   "source": [
    "# Import Python packages \n",
    "import pandas as pd\n",
    "import cassandra\n",
    "import re\n",
    "import os\n",
    "import glob\n",
    "import numpy as np\n",
    "import json\n",
    "import csv"
   ]
  },
  {
   "cell_type": "markdown",
   "metadata": {
    "editable": true
   },
   "source": [
    "#### Processing the files to create the data file csv that will be used for Apache Casssandra tables"
   ]
  },
  {
   "cell_type": "code",
   "execution_count": 2,
   "metadata": {
    "editable": true
   },
   "outputs": [],
   "source": [
    "def process_csv(dir, paths):    \n",
    "    csvrows = []\n",
    "\n",
    "    # cache all the csv rows from each file in memory\n",
    "    for f in paths:\n",
    "        file = dir + '/' + f\n",
    "        with open(file, 'r', encoding='utf8', newline='') as csvfile:\n",
    "            csvreader = csv.reader(csvfile)\n",
    "            next(csvreader)\n",
    "            for line in csvreader:\n",
    "                csvrows.append(line)\n",
    "\n",
    "    # write out the csv rows to a single denormalized csv file\n",
    "    csv.register_dialect('dialect', quoting=csv.QUOTE_ALL,\n",
    "                         skipinitialspace=True)\n",
    "    with open('event_datafile_new.csv', 'w', encoding='utf8', newline='') as outFile:\n",
    "        writer = csv.writer(outFile, dialect='dialect')\n",
    "        writer.writerow(['artist', 'firstName', 'gender', 'itemInSession', 'lastName',\n",
    "                         'length', 'level', 'location', 'sessionId', 'song', 'userId'])\n",
    "        for row in csvrows:\n",
    "            if row[0] == '':\n",
    "                continue\n",
    "            writer.writerow((row[0], row[2], row[3], row[4], row[5],\n",
    "                             row[6], row[7], row[8], row[12], row[13], row[16]))\n",
    "            \n",
    "dir = os.getcwd() + '/event_data'\n",
    "process_csv(dir, os.walk(dir).__next__()[2])"
   ]
  },
  {
   "cell_type": "code",
   "execution_count": 3,
   "metadata": {
    "editable": true
   },
   "outputs": [
    {
     "name": "stdout",
     "output_type": "stream",
     "text": [
      "6821\n"
     ]
    }
   ],
   "source": [
    "# check the number of rows in your csv file\n",
    "with open('event_datafile_new.csv', 'r', encoding = 'utf8') as f:\n",
    "    print(sum(1 for line in f))"
   ]
  },
  {
   "cell_type": "markdown",
   "metadata": {
    "editable": true
   },
   "source": [
    "# Part II. Complete the Apache Cassandra coding portion of your project. \n",
    "\n",
    "## Now you are ready to work with the CSV file titled <font color=red>event_datafile_new.csv</font>, located within the Workspace directory.  The event_datafile_new.csv contains the following columns: \n",
    "- artist \n",
    "- firstName of user\n",
    "- gender of user\n",
    "- item number in session\n",
    "- last name of user\n",
    "- length of the song\n",
    "- level (paid or free song)\n",
    "- location of the user\n",
    "- sessionId\n",
    "- song title\n",
    "- userId\n",
    "\n",
    "The image below is a screenshot of what the denormalized data should appear like in the <font color=red>**event_datafile_new.csv**</font> after the code above is run:<br>\n",
    "\n",
    "<img src=\"images/image_event_datafile_new.jpg\">"
   ]
  },
  {
   "cell_type": "markdown",
   "metadata": {
    "editable": true
   },
   "source": [
    "## Begin writing your Apache Cassandra code in the cells below"
   ]
  },
  {
   "cell_type": "markdown",
   "metadata": {
    "editable": true
   },
   "source": [
    "#### Creating a Cluster"
   ]
  },
  {
   "cell_type": "code",
   "execution_count": 4,
   "metadata": {
    "editable": true
   },
   "outputs": [],
   "source": [
    "# This should make a connection to a Cassandra instance your local machine \n",
    "# (127.0.0.1)\n",
    "\n",
    "from cassandra.cluster import Cluster\n",
    "cluster = Cluster()\n",
    "\n",
    "# To establish connection and begin executing queries, need a session\n",
    "session = cluster.connect()"
   ]
  },
  {
   "cell_type": "markdown",
   "metadata": {
    "editable": true
   },
   "source": [
    "#### Create Keyspace"
   ]
  },
  {
   "cell_type": "code",
   "execution_count": 5,
   "metadata": {
    "editable": true
   },
   "outputs": [
    {
     "data": {
      "text/plain": [
       "<cassandra.cluster.ResultSet at 0x7f1e49498860>"
      ]
     },
     "execution_count": 5,
     "metadata": {},
     "output_type": "execute_result"
    }
   ],
   "source": [
    "    session.execute(\"\"\"\n",
    "        CREATE KEYSPACE IF NOT EXISTS sparkify\n",
    "        WITH REPLICATION = {\n",
    "           'class' : 'SimpleStrategy',\n",
    "           'replication_factor' : 1\n",
    "        };\n",
    "    \"\"\")"
   ]
  },
  {
   "cell_type": "markdown",
   "metadata": {
    "editable": true
   },
   "source": [
    "#### Set Keyspace"
   ]
  },
  {
   "cell_type": "code",
   "execution_count": 6,
   "metadata": {
    "editable": true
   },
   "outputs": [
    {
     "data": {
      "text/plain": [
       "<cassandra.cluster.ResultSet at 0x7f1e49498208>"
      ]
     },
     "execution_count": 6,
     "metadata": {},
     "output_type": "execute_result"
    }
   ],
   "source": [
    "session.execute('USE sparkify')"
   ]
  },
  {
   "cell_type": "markdown",
   "metadata": {
    "editable": true
   },
   "source": [
    "### Now we need to create tables to run the following queries. Remember, with Apache Cassandra you model the database tables on the queries you want to run."
   ]
  },
  {
   "cell_type": "markdown",
   "metadata": {
    "editable": true
   },
   "source": [
    "## Create queries to ask the following three questions of the data\n",
    "\n",
    "### 1. Give me the artist, song title and song's length in the music app history that was heard during  sessionId = 338, and itemInSession  = 4\n",
    "\n",
    "\n",
    "### 2. Give me only the following: name of artist, song (sorted by itemInSession) and user (first and last name) for userid = 10, sessionid = 182\n",
    "    \n",
    "\n",
    "### 3. Give me every user name (first and last) in my music app history who listened to the song 'All Hands Against His Own'\n",
    "\n",
    "\n"
   ]
  },
  {
   "cell_type": "code",
   "execution_count": 8,
   "metadata": {
    "editable": true
   },
   "outputs": [],
   "source": [
    "    session.execute(\"\"\"\n",
    "        CREATE TABLE IF NOT EXISTS sparkify.plays_by_session_and_item(\n",
    "            session_id int,\n",
    "            item_in_session int,\n",
    "            artist text,\n",
    "            song_title text,\n",
    "            song_len float,\n",
    "            PRIMARY KEY (session_id, item_in_session))\n",
    "    \"\"\")\n",
    "\n",
    "    session.execute(\"\"\"\n",
    "        CREATE TABLE IF NOT EXISTS sparkify.artist_song_user_by_user_id_session_id(\n",
    "            session_id int,\n",
    "            item_in_session int,\n",
    "            user_id int,\n",
    "            artist text,\n",
    "            song_title text,\n",
    "            user_first text,\n",
    "            user_last text,\n",
    "            PRIMARY KEY ((user_id, session_id), item_in_session))\n",
    "    \"\"\")\n",
    "\n",
    "    session.execute(\"\"\"\n",
    "        CREATE TABLE IF NOT EXISTS sparkify.user_first_last_by_song_listened_to(\n",
    "            song_title text,\n",
    "            user_id int,\n",
    "            user_first text,\n",
    "            user_last text,\n",
    "            PRIMARY KEY (song_title, user_id))\n",
    "    \"\"\")\n",
    "    \n",
    "    with open('event_datafile_new.csv', encoding='utf8') as file:\n",
    "        csvreader = csv.reader(file)\n",
    "        csvreader.__next__()\n",
    "        for line in csvreader:\n",
    "            session.execute(\"\"\"\n",
    "                INSERT INTO sparkify.plays_by_session_and_item(session_id, item_in_session, artist, song_title, song_len)\n",
    "                VALUES ({session_id}, {item_in_session}, '{artist}', '{song_title}', {song_len})\n",
    "            \"\"\".format(session_id=line[8], item_in_session=line[3], artist=line[0].replace(\"'\", \"''\"), song_title=line[9].replace(\"'\", \"''\"), song_len=line[5]))\n",
    "            session.execute(\"\"\"\n",
    "                INSERT INTO sparkify.artist_song_user_by_user_id_session_id(session_id, item_in_session, user_id, artist, song_title, user_first, user_last)\n",
    "                VALUES ({session_id}, {item_in_session}, {user_id}, '{artist}', '{song_title}', '{user_first}', '{user_last}')\n",
    "            \"\"\".format(\n",
    "                session_id=line[8],\n",
    "                item_in_session=line[3],\n",
    "                user_id=line[10],\n",
    "                artist=line[0].replace(\"'\", \"''\"),\n",
    "                song_title=line[9].replace(\"'\", \"''\"),\n",
    "                user_first=line[1].replace(\"'\", \"''\"),\n",
    "                user_last=line[4].replace(\"'\", \"''\")\n",
    "            ))\n",
    "            session.execute(\"\"\"\n",
    "                INSERT INTO sparkify.user_first_last_by_song_listened_to(song_title, user_id, user_first, user_last)\n",
    "                VALUES ('{song_title}', {user_id}, '{user_first}', '{user_last}')\n",
    "            \"\"\".format(\n",
    "                song_title=line[9].replace(\"'\", \"''\"),\n",
    "                user_id=line[10],\n",
    "                user_first=line[1].replace(\"'\", \"''\"),\n",
    "                user_last=line[4].replace(\"'\", \"''\")\n",
    "            ))"
   ]
  },
  {
   "cell_type": "markdown",
   "metadata": {
    "editable": true
   },
   "source": [
    "#### Do a SELECT to verify that the data have been inserted into each table"
   ]
  },
  {
   "cell_type": "code",
   "execution_count": 9,
   "metadata": {
    "editable": true,
    "scrolled": true
   },
   "outputs": [
    {
     "name": "stdout",
     "output_type": "stream",
     "text": [
      "Row(session_id=23, item_in_session=0, artist='Regina Spektor', song_len=191.08526611328125, song_title='The Calculation (Album Version)')\n",
      "Row(session_id=23, item_in_session=1, artist='Octopus Project', song_len=250.95791625976562, song_title='All Of The Champs That Ever Lived')\n"
     ]
    }
   ],
   "source": [
    "    rows = session.execute('SELECT * FROM sparkify.plays_by_session_and_item LIMIT 2')\n",
    "\n",
    "    for row in rows:\n",
    "        print(row)"
   ]
  },
  {
   "cell_type": "markdown",
   "metadata": {
    "editable": true
   },
   "source": [
    "### COPY AND REPEAT THE ABOVE THREE CELLS FOR EACH OF THE THREE QUESTIONS"
   ]
  },
  {
   "cell_type": "code",
   "execution_count": 10,
   "metadata": {
    "editable": true
   },
   "outputs": [],
   "source": [
    "# Get the artist, song and song length of the song play for session 338 with item in session 4"
   ]
  },
  {
   "cell_type": "code",
   "execution_count": 11,
   "metadata": {
    "editable": true
   },
   "outputs": [
    {
     "name": "stdout",
     "output_type": "stream",
     "text": [
      "{'artist': 'Faithless', 'song_title': 'Music Matters (Mark Knight Dub)', 'song_len': 495.30731201171875}\n"
     ]
    }
   ],
   "source": [
    "    rows = session.execute(\n",
    "        'SELECT artist, song_title, song_len FROM sparkify.plays_by_session_and_item WHERE session_id=338 AND item_in_session=4')\n",
    "\n",
    "    # We are only expecting one row here\n",
    "    for row in rows:\n",
    "        print({\"artist\": row[0], \"song_title\": row[1], \"song_len\": row[2]})\n",
    "        \n",
    "        \n"
   ]
  },
  {
   "cell_type": "code",
   "execution_count": 12,
   "metadata": {
    "editable": true
   },
   "outputs": [],
   "source": [
    "# Get the artist and song along with the listener user's \n",
    "# first and last for the song play with listener user id \n",
    "# 10 and the session id is 182"
   ]
  },
  {
   "cell_type": "code",
   "execution_count": 13,
   "metadata": {
    "editable": true
   },
   "outputs": [
    {
     "name": "stdout",
     "output_type": "stream",
     "text": [
      "{'artist': 'Down To The Bone', 'song_title': \"Keep On Keepin' On\", 'user_first': 'Sylvie', 'user_last': 'Cruz'}\n",
      "{'artist': 'Three Drives', 'song_title': 'Greece 2000', 'user_first': 'Sylvie', 'user_last': 'Cruz'}\n",
      "{'artist': 'Sebastien Tellier', 'song_title': 'Kilometer', 'user_first': 'Sylvie', 'user_last': 'Cruz'}\n",
      "{'artist': 'Lonnie Gordon', 'song_title': 'Catch You Baby (Steve Pitron & Max Sanna Radio Edit)', 'user_first': 'Sylvie', 'user_last': 'Cruz'}\n"
     ]
    }
   ],
   "source": [
    "    rows = session.execute(\"\"\"\n",
    "        SELECT artist, song_title, user_first, user_last\n",
    "        FROM sparkify.artist_song_user_by_user_id_session_id\n",
    "        WHERE session_id=182 AND user_id=10\n",
    "        GROUP BY item_in_session\n",
    "    \"\"\")\n",
    "\n",
    "    for row in rows:\n",
    "        print({\"artist\": row[0], \"song_title\": row[1], \"user_first\": row[2], \"user_last\": row[3]})\n",
    "        "
   ]
  },
  {
   "cell_type": "code",
   "execution_count": 14,
   "metadata": {
    "editable": true
   },
   "outputs": [],
   "source": [
    "# Get the list of all users (first and last) that listed to the song 'All Hands Against His Own'"
   ]
  },
  {
   "cell_type": "code",
   "execution_count": 15,
   "metadata": {
    "editable": true
   },
   "outputs": [
    {
     "name": "stdout",
     "output_type": "stream",
     "text": [
      "{'user_first': 'Jacqueline', 'user_last': 'Lynch'}\n",
      "{'user_first': 'Tegan', 'user_last': 'Levine'}\n",
      "{'user_first': 'Sara', 'user_last': 'Johnson'}\n"
     ]
    }
   ],
   "source": [
    "    rows = session.execute(\"\"\"\n",
    "        SELECT user_first, user_last\n",
    "        FROM sparkify.user_first_last_by_song_listened_to\n",
    "        WHERE song_title='All Hands Against His Own'\n",
    "        GROUP BY user_id\n",
    "    \"\"\")\n",
    "\n",
    "    result_set = []\n",
    "    for row in rows:\n",
    "        print({\"user_first\": row[0], \"user_last\": row[1]})"
   ]
  },
  {
   "cell_type": "markdown",
   "metadata": {
    "editable": true
   },
   "source": [
    "### Drop the tables before closing out the sessions"
   ]
  },
  {
   "cell_type": "code",
   "execution_count": 16,
   "metadata": {
    "editable": true
   },
   "outputs": [
    {
     "data": {
      "text/plain": [
       "<cassandra.cluster.ResultSet at 0x7f1e23f922b0>"
      ]
     },
     "execution_count": 16,
     "metadata": {},
     "output_type": "execute_result"
    }
   ],
   "source": [
    "session.execute('DROP TABLE IF EXISTS sparkify.plays_by_session_and_item')\n",
    "session.execute('DROP TABLE IF EXISTS sparkify.artist_song_user_by_user_id_session_id')\n",
    "session.execute('DROP TABLE IF EXISTS sparkify.user_first_last_by_song_listened_to')"
   ]
  },
  {
   "cell_type": "markdown",
   "metadata": {
    "editable": true
   },
   "source": [
    "### Close the session and cluster connection¶"
   ]
  },
  {
   "cell_type": "code",
   "execution_count": 17,
   "metadata": {
    "editable": true
   },
   "outputs": [],
   "source": [
    "session.shutdown()\n",
    "cluster.shutdown()"
   ]
  }
 ],
 "metadata": {
  "kernelspec": {
   "display_name": "Python 3",
   "language": "python",
   "name": "python3"
  },
  "language_info": {
   "codemirror_mode": {
    "name": "ipython",
    "version": 3
   },
   "file_extension": ".py",
   "mimetype": "text/x-python",
   "name": "python",
   "nbconvert_exporter": "python",
   "pygments_lexer": "ipython3",
   "version": "3.6.3"
  }
 },
 "nbformat": 4,
 "nbformat_minor": 4
}
